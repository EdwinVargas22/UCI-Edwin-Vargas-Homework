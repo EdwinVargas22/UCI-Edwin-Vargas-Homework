{
 "cells": [
  {
   "cell_type": "code",
   "execution_count": 8,
   "metadata": {},
   "outputs": [],
   "source": [
    "# Dependencies and Setpu\n",
    "import matplotlib.pyplot as plt\n",
    "import pandas as pd\n",
    "import numpy as np\n",
    "import requests\n",
    "import gmaps\n",
    "import os\n",
    "\n",
    "# Import API Key\n",
    "from config import g_key\n",
    "\n",
    "gmaps.configure(api_key=g_key)"
   ]
  },
  {
   "cell_type": "code",
   "execution_count": 9,
   "metadata": {},
   "outputs": [
    {
     "data": {
      "text/html": [
       "<div>\n",
       "<style scoped>\n",
       "    .dataframe tbody tr th:only-of-type {\n",
       "        vertical-align: middle;\n",
       "    }\n",
       "\n",
       "    .dataframe tbody tr th {\n",
       "        vertical-align: top;\n",
       "    }\n",
       "\n",
       "    .dataframe thead th {\n",
       "        text-align: right;\n",
       "    }\n",
       "</style>\n",
       "<table border=\"1\" class=\"dataframe\">\n",
       "  <thead>\n",
       "    <tr style=\"text-align: right;\">\n",
       "      <th></th>\n",
       "      <th>City</th>\n",
       "      <th>Lat</th>\n",
       "      <th>Lng</th>\n",
       "      <th>Max Temp</th>\n",
       "      <th>Humidity</th>\n",
       "      <th>Cloudiness</th>\n",
       "      <th>Wind Speed</th>\n",
       "      <th>Country</th>\n",
       "      <th>Date</th>\n",
       "    </tr>\n",
       "  </thead>\n",
       "  <tbody>\n",
       "    <tr>\n",
       "      <th>0</th>\n",
       "      <td>Khovd</td>\n",
       "      <td>48.01</td>\n",
       "      <td>91.64</td>\n",
       "      <td>42.60</td>\n",
       "      <td>56</td>\n",
       "      <td>0</td>\n",
       "      <td>6.89</td>\n",
       "      <td>MN</td>\n",
       "      <td>1603074775</td>\n",
       "    </tr>\n",
       "    <tr>\n",
       "      <th>1</th>\n",
       "      <td>Chardara</td>\n",
       "      <td>41.25</td>\n",
       "      <td>67.97</td>\n",
       "      <td>55.71</td>\n",
       "      <td>37</td>\n",
       "      <td>0</td>\n",
       "      <td>7.72</td>\n",
       "      <td>KZ</td>\n",
       "      <td>1603074907</td>\n",
       "    </tr>\n",
       "    <tr>\n",
       "      <th>2</th>\n",
       "      <td>Koumac</td>\n",
       "      <td>-20.57</td>\n",
       "      <td>164.28</td>\n",
       "      <td>78.17</td>\n",
       "      <td>56</td>\n",
       "      <td>3</td>\n",
       "      <td>8.79</td>\n",
       "      <td>NC</td>\n",
       "      <td>1603074907</td>\n",
       "    </tr>\n",
       "    <tr>\n",
       "      <th>3</th>\n",
       "      <td>Rikitea</td>\n",
       "      <td>-23.12</td>\n",
       "      <td>-134.97</td>\n",
       "      <td>74.70</td>\n",
       "      <td>81</td>\n",
       "      <td>100</td>\n",
       "      <td>18.66</td>\n",
       "      <td>PF</td>\n",
       "      <td>1603074908</td>\n",
       "    </tr>\n",
       "    <tr>\n",
       "      <th>4</th>\n",
       "      <td>Chui</td>\n",
       "      <td>-33.70</td>\n",
       "      <td>-53.46</td>\n",
       "      <td>62.53</td>\n",
       "      <td>86</td>\n",
       "      <td>0</td>\n",
       "      <td>6.55</td>\n",
       "      <td>UY</td>\n",
       "      <td>1603074908</td>\n",
       "    </tr>\n",
       "  </tbody>\n",
       "</table>\n",
       "</div>"
      ],
      "text/plain": [
       "       City    Lat     Lng  Max Temp  Humidity  Cloudiness  Wind Speed  \\\n",
       "0     Khovd  48.01   91.64     42.60        56           0        6.89   \n",
       "1  Chardara  41.25   67.97     55.71        37           0        7.72   \n",
       "2    Koumac -20.57  164.28     78.17        56           3        8.79   \n",
       "3   Rikitea -23.12 -134.97     74.70        81         100       18.66   \n",
       "4      Chui -33.70  -53.46     62.53        86           0        6.55   \n",
       "\n",
       "  Country        Date  \n",
       "0      MN  1603074775  \n",
       "1      KZ  1603074907  \n",
       "2      NC  1603074907  \n",
       "3      PF  1603074908  \n",
       "4      UY  1603074908  "
      ]
     },
     "execution_count": 9,
     "metadata": {},
     "output_type": "execute_result"
    }
   ],
   "source": [
    "csv_path = \"../WeatherPy/CSV Data/weather_city_data.csv\"\n",
    "city_weather_data = pd.read_csv(csv_path)\n",
    "city_weather_data.head()"
   ]
  },
  {
   "cell_type": "code",
   "execution_count": 10,
   "metadata": {},
   "outputs": [],
   "source": [
    "humidity = city_weather_data[\"Humidity\"].astype(float)\n",
    "maxhumidity = humidity.max()\n",
    "locations = city_weather_data[[\"Lat\", \"Lng\"]]"
   ]
  },
  {
   "cell_type": "code",
   "execution_count": 12,
   "metadata": {},
   "outputs": [
    {
     "data": {
      "application/vnd.jupyter.widget-view+json": {
       "model_id": "9f648b5666a34d11a0a99728b1db8939",
       "version_major": 2,
       "version_minor": 0
      },
      "text/plain": [
       "Figure(layout=FigureLayout(height='420px'))"
      ]
     },
     "metadata": {},
     "output_type": "display_data"
    }
   ],
   "source": [
    "fig = gmaps.figure()\n",
    "heat_humidity_layer = gmaps.heatmap_layer(locations, weights=humidity, dissipating=False, max_intensity=maxhumidity, point_radius=3)\n",
    "fig.add_layer(heat_humidity_layer)\n",
    "fig"
   ]
  },
  {
   "cell_type": "code",
   "execution_count": null,
   "metadata": {},
   "outputs": [],
   "source": []
  }
 ],
 "metadata": {
  "kernelspec": {
   "display_name": "Python [conda env:PythonData] *",
   "language": "python",
   "name": "conda-env-PythonData-py"
  },
  "language_info": {
   "codemirror_mode": {
    "name": "ipython",
    "version": 3
   },
   "file_extension": ".py",
   "mimetype": "text/x-python",
   "name": "python",
   "nbconvert_exporter": "python",
   "pygments_lexer": "ipython3",
   "version": "3.6.12"
  }
 },
 "nbformat": 4,
 "nbformat_minor": 4
}
